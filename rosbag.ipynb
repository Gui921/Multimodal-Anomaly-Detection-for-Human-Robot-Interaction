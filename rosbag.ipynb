{
 "cells": [
  {
   "cell_type": "code",
   "execution_count": 1,
   "metadata": {},
   "outputs": [
    {
     "name": "stderr",
     "output_type": "stream",
     "text": [
      "/opt/ros/noetic/lib/python3/dist-packages/rosbag/bag.py:1568: SyntaxWarning: invalid escape sequence '\\d'\n",
      "  matches = re.match(\"#ROS(.*) V(\\d).(\\d)\", version_line)\n"
     ]
    }
   ],
   "source": [
    "import rosbag\n",
    "import csv\n",
    "import numpy as np\n",
    "import pandas as pd"
   ]
  },
  {
   "cell_type": "code",
   "execution_count": 2,
   "metadata": {},
   "outputs": [],
   "source": [
    "def extract_rosbag_to_csv_with_timegap(bag_path, csv_path, start_time, end_time):\n",
    "    \"\"\"\n",
    "    Extracts torque and gripper data from a rosbag and writes to CSV\n",
    "    within the specified [start_time, end_time] time window.\n",
    "    \"\"\"\n",
    "    bag = rosbag.Bag(bag_path)\n",
    "\n",
    "    with open(csv_path, 'w', newline='') as csvfile:\n",
    "        writer = csv.writer(csvfile)\n",
    "\n",
    "        # Write header\n",
    "        writer.writerow([\n",
    "            'time',\n",
    "            'tau_J_0', 'tau_J_1', 'tau_J_2', 'tau_J_3', 'tau_J_4', 'tau_J_5', 'tau_J_6',\n",
    "            'gripper_position_left', 'gripper_position_right'\n",
    "        ])\n",
    "\n",
    "        latest_gripper_position = [None, None]\n",
    "\n",
    "        for topic, msg, t in bag.read_messages(topics=[\n",
    "            '/franka_state_controller/franka_states',\n",
    "            '/franka_gripper/joint_states'\n",
    "        ]):\n",
    "            timestamp = t.to_sec()\n",
    "\n",
    "            if timestamp < start_time:\n",
    "                continue\n",
    "            if timestamp > end_time:\n",
    "                break\n",
    "\n",
    "            if topic == '/franka_gripper/joint_states':\n",
    "                latest_gripper_position = list(msg.position) if msg.position else [None, None]\n",
    "\n",
    "            elif topic == '/franka_state_controller/franka_states':\n",
    "                tau_J = list(msg.tau_J)\n",
    "                row = [timestamp] + tau_J + latest_gripper_position\n",
    "                writer.writerow(row)\n",
    "\n",
    "    bag.close()\n",
    "\n",
    "\n",
    "def extract_rosbag_to_matrix_with_timegap(bag_path, start_time, end_time):\n",
    "\n",
    "    bag = rosbag.Bag(bag_path)\n",
    "    data_matrix = []\n",
    "\n",
    "    latest_gripper_position = [np.nan, np.nan]\n",
    "\n",
    "    for topic, msg, t in bag.read_messages(topics=[\n",
    "        '/franka_state_controller/franka_states',\n",
    "        '/franka_gripper/joint_states'\n",
    "    ]):\n",
    "        timestamp = t.to_sec()\n",
    "\n",
    "        if timestamp < start_time:\n",
    "            continue\n",
    "        if timestamp > end_time:\n",
    "            break\n",
    "\n",
    "        if topic == '/franka_gripper/joint_states':\n",
    "            latest_gripper_position = list(msg.position) if msg.position else [np.nan, np.nan]\n",
    "\n",
    "        elif topic == '/franka_state_controller/franka_states':\n",
    "            tau_J = list(msg.tau_J)\n",
    "            row = tau_J + latest_gripper_position\n",
    "            data_matrix.append(row)\n",
    "\n",
    "    bag.close()\n",
    "    return data_matrix"
   ]
  },
  {
   "cell_type": "code",
   "execution_count": 15,
   "metadata": {},
   "outputs": [],
   "source": [
    "bag_path = 'rosbag_files/Good/8_P2.bag'\n",
    "#csv_path = 'franka_torque_and_gripper_log_filtered.csv'\n",
    "\n",
    "start_time = 1752829041.346629   # replace with your start timestamp\n",
    "end_time = 1752829043.479962   # replace with your end timestamp\n",
    "\n",
    "#extract_rosbag_to_csv_with_timegap(bag_path, csv_path, start_time, end_time)\n",
    "data = extract_rosbag_to_matrix_with_timegap(bag_path,start_time,end_time)"
   ]
  },
  {
   "cell_type": "code",
   "execution_count": 5,
   "metadata": {},
   "outputs": [],
   "source": [
    "def max_pool_matrix(matrix, pool_size):\n",
    "    \"\"\"\n",
    "    Applies MaxPooling to reduce the size of the matrix.\n",
    "    \n",
    "    Args:\n",
    "        matrix: List of lists (rows x features) or numpy array.\n",
    "        pool_size: Integer, the pooling window size.\n",
    "\n",
    "    Returns:\n",
    "        pooled_matrix: List of pooled rows (reduced in size).\n",
    "    \"\"\"\n",
    "    matrix = np.array(matrix)\n",
    "    n_rows, n_cols = matrix.shape\n",
    "    pooled_matrix = []\n",
    "\n",
    "    for i in range(0, n_rows, pool_size):\n",
    "        window = matrix[i:i+pool_size, :]\n",
    "        if window.shape[0] == 0:\n",
    "            continue\n",
    "\n",
    "        # For timestamp: use mean or first\n",
    "        timestamp = np.mean(window[:, 0])  # or window[0, 0]\n",
    "\n",
    "        # For other columns: max pooling\n",
    "        pooled_features = np.max(window[:, 1:], axis=0)\n",
    "\n",
    "        pooled_row = [timestamp] + pooled_features.tolist()\n",
    "        pooled_matrix.append(pooled_row)\n",
    "\n",
    "    return pooled_matrix"
   ]
  },
  {
   "cell_type": "code",
   "execution_count": 16,
   "metadata": {},
   "outputs": [
    {
     "data": {
      "text/plain": [
       "[-0.23191767930984497,\n",
       " -49.09267807006836,\n",
       " -2.614889144897461,\n",
       " 23.03385353088379,\n",
       " 1.2294764518737793,\n",
       " 2.6619012355804443,\n",
       " -0.20399820804595947,\n",
       " nan,\n",
       " nan]"
      ]
     },
     "execution_count": 16,
     "metadata": {},
     "output_type": "execute_result"
    }
   ],
   "source": [
    "data[0]"
   ]
  },
  {
   "cell_type": "code",
   "execution_count": 17,
   "metadata": {},
   "outputs": [
    {
     "name": "stdout",
     "output_type": "stream",
     "text": [
      "(63, 9)\n"
     ]
    }
   ],
   "source": [
    "print(np.array(data).shape)"
   ]
  },
  {
   "cell_type": "code",
   "execution_count": 18,
   "metadata": {},
   "outputs": [],
   "source": [
    "pooled_matrix = max_pool_matrix(data,8)"
   ]
  },
  {
   "cell_type": "code",
   "execution_count": 19,
   "metadata": {},
   "outputs": [
    {
     "name": "stdout",
     "output_type": "stream",
     "text": [
      "(8, 9)\n"
     ]
    }
   ],
   "source": [
    "print(np.array(pooled_matrix).shape)"
   ]
  }
 ],
 "metadata": {
  "kernelspec": {
   "display_name": "g_ribeiro",
   "language": "python",
   "name": "python3"
  },
  "language_info": {
   "codemirror_mode": {
    "name": "ipython",
    "version": 3
   },
   "file_extension": ".py",
   "mimetype": "text/x-python",
   "name": "python",
   "nbconvert_exporter": "python",
   "pygments_lexer": "ipython3",
   "version": "3.12.7"
  }
 },
 "nbformat": 4,
 "nbformat_minor": 2
}
