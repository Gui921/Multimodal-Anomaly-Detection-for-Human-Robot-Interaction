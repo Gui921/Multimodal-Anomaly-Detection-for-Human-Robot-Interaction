{
 "cells": [
  {
   "cell_type": "code",
   "execution_count": 1,
   "metadata": {},
   "outputs": [],
   "source": [
    "import torch\n",
    "import torch.nn as nn\n",
    "import torch.optim as optim\n",
    "from torch.utils.data import random_split\n",
    "from torch.utils.data import DataLoader\n",
    "import numpy as np\n",
    "from PIL import Image\n",
    "from torchvision import transforms\n",
    "import cv2\n",
    "import torch.nn.functional as F\n",
    "import pandas as pd\n",
    "import matplotlib.pyplot as plt\n",
    "import pandas as pd\n",
    "import multiprocessing\n",
    "from tqdm import tqdm\n",
    "\n",
    "import os\n",
    "\n",
    "from video_autoencoder import TinyVideoUNetAE, VideoUNetAutoencoder, ShallowVideoUNetAutoencoder, VideoUNetAutoencoderNoSkips, ShallowVideoAutoencoderNoSkips\n",
    "from customDataset import CustomKineticsDataset, CustomKineticsDataset_UNet"
   ]
  },
  {
   "cell_type": "code",
   "execution_count": 2,
   "metadata": {},
   "outputs": [
    {
     "data": {
      "text/plain": [
       "'\\nJoao_4_fail - joint Torque\\nJoao_2_fail - Collision\\n10_Gui_Fail - Extra person\\nGui_Fail_3 - Person Disappears\\n1_p2_fail - drop cup\\n3_p2_fail - robot human handover\\n'"
      ]
     },
     "execution_count": 2,
     "metadata": {},
     "output_type": "execute_result"
    }
   ],
   "source": [
    "model = VideoUNetAutoencoderNoSkips(base_channels=32, latent_dim=8,p=0)\n",
    "\n",
    "'''\n",
    "Joao_4_fail - joint Torque\n",
    "Joao_2_fail - Collision\n",
    "10_Gui_Fail - Extra person\n",
    "Gui_Fail_3 - Person Disappears\n",
    "1_p2_fail - drop cup\n",
    "3_p2_fail - robot human handover\n",
    "'''"
   ]
  },
  {
   "cell_type": "code",
   "execution_count": 3,
   "metadata": {},
   "outputs": [
    {
     "name": "stdout",
     "output_type": "stream",
     "text": [
      "{'Human Handover': 0, 'Idle': 1, 'Move No Cup': 2, 'Move with Cup': 3, 'Place': 4, 'Robot Handover': 5, 'Robot Picking Object': 6}\n"
     ]
    }
   ],
   "source": [
    "\n",
    "transform = transforms.Compose([\n",
    "    transforms.Resize((256, 256)),\n",
    "    transforms.CenterCrop(224),\n",
    "    transforms.Grayscale(num_output_channels=1),\n",
    "    transforms.ToTensor()\n",
    "])\n",
    "\n",
    "dataset = CustomKineticsDataset_UNet(root_dir='Labelled Dataset',\n",
    "                                frames_per_clip=32,\n",
    "                                transform=transform)\n",
    "\n",
    "train_size = int(0.85 * len(dataset))\n",
    "val_size = int(0.05 * len(dataset))\n",
    "test_size = len(dataset) - train_size - val_size\n",
    "train_dataset, val_dataset, test_dataset = random_split(dataset, [train_size, val_size, test_size])\n",
    "\n",
    "train_loader = DataLoader(\n",
    "    train_dataset,\n",
    "    batch_size=10,\n",
    "    shuffle=True,\n",
    "    num_workers=multiprocessing.cpu_count() // 2,\n",
    "    pin_memory=True,\n",
    "    persistent_workers=True\n",
    ")\n",
    "\n",
    "val_loader = DataLoader(\n",
    "    val_dataset,\n",
    "    batch_size=10,\n",
    "    shuffle=False,\n",
    "    num_workers=multiprocessing.cpu_count() // 2,\n",
    "    pin_memory=True,\n",
    "    persistent_workers=True\n",
    ")\n",
    "\n",
    "test_loader = DataLoader(\n",
    "    test_dataset,\n",
    "    batch_size=10,\n",
    "    shuffle=False,\n",
    "    num_workers=multiprocessing.cpu_count() // 2,\n",
    "    pin_memory=True,\n",
    "    persistent_workers=True\n",
    ")"
   ]
  },
  {
   "cell_type": "code",
   "execution_count": 4,
   "metadata": {},
   "outputs": [],
   "source": [
    "import torch\n",
    "import torch.nn as nn\n",
    "import torch.optim as optim\n",
    "from tqdm import tqdm\n",
    "\n",
    "\n",
    "def train_autoencoder(model, train_loader, val_loader, num_epochs=20, lr=1e-3, device=\"cuda\"):\n",
    "    model = model.to(device)\n",
    "    criterion = nn.L1Loss()\n",
    "    optimizer = optim.AdamW(model.parameters(), lr=lr, weight_decay=0.3)\n",
    "\n",
    "    #scheduler = optim.lr_scheduler.ReduceLROnPlateau(\n",
    "    #    optimizer, mode=\"min\", factor=0.1, patience=5, verbose=True\n",
    "    #)\n",
    "\n",
    "    best_val_loss = float(\"inf\")\n",
    "    all_train_losses = []\n",
    "    all_val_losses = []\n",
    "\n",
    "    for epoch in range(num_epochs):\n",
    "        # -------- TRAIN --------\n",
    "        model.train()\n",
    "        train_loss = 0.0\n",
    "        for clips, _ in tqdm(train_loader, desc=f\"Epoch {epoch+1}/{num_epochs} [Train]\"):\n",
    "\n",
    "            clips = clips.to(device)  # (B, C, T, H, W)\n",
    "\n",
    "            optimizer.zero_grad()\n",
    "            recon = model(clips)\n",
    "\n",
    "            loss = criterion(recon, clips)\n",
    "            loss.backward()\n",
    "            optimizer.step()\n",
    "\n",
    "            train_loss += loss.item() * clips.size(0)\n",
    "\n",
    "        train_loss /= len(train_loader.dataset)\n",
    "        all_train_losses.append(train_loss)\n",
    "\n",
    "        # -------- VALIDATION --------\n",
    "        model.eval()\n",
    "        val_loss = 0.0\n",
    "        with torch.no_grad():\n",
    "            for clips, _ in tqdm(val_loader, desc=f\"Epoch {epoch+1}/{num_epochs} [Val]\"):\n",
    "\n",
    "                clips = clips.to(device)\n",
    "                recon = model(clips)\n",
    "\n",
    "\n",
    "                loss = criterion(recon, clips)\n",
    "                val_loss += loss.item() * clips.size(0)\n",
    "\n",
    "        val_loss /= len(val_loader.dataset)\n",
    "        all_val_losses.append(val_loss)\n",
    "\n",
    "        print(f\"Epoch {epoch+1}/{num_epochs} | Train Loss: {train_loss:.6f} | Val Loss: {val_loss:.6f}\")\n",
    "\n",
    "    return all_train_losses, all_val_losses\n",
    "\n"
   ]
  },
  {
   "cell_type": "code",
   "execution_count": 5,
   "metadata": {},
   "outputs": [
    {
     "name": "stderr",
     "output_type": "stream",
     "text": [
      "Epoch 1/40 [Train]: 100%|██████████| 220/220 [05:22<00:00,  1.47s/it]\n",
      "Epoch 1/40 [Val]: 100%|██████████| 13/13 [00:20<00:00,  1.54s/it]\n"
     ]
    },
    {
     "name": "stdout",
     "output_type": "stream",
     "text": [
      "Epoch 1/40 | Train Loss: 0.170239 | Val Loss: 0.155579\n"
     ]
    },
    {
     "name": "stderr",
     "output_type": "stream",
     "text": [
      "Epoch 2/40 [Train]: 100%|██████████| 220/220 [05:22<00:00,  1.47s/it]\n",
      "Epoch 2/40 [Val]: 100%|██████████| 13/13 [00:19<00:00,  1.53s/it]\n"
     ]
    },
    {
     "name": "stdout",
     "output_type": "stream",
     "text": [
      "Epoch 2/40 | Train Loss: 0.139148 | Val Loss: 0.128805\n"
     ]
    },
    {
     "name": "stderr",
     "output_type": "stream",
     "text": [
      "Epoch 3/40 [Train]: 100%|██████████| 220/220 [05:22<00:00,  1.47s/it]\n",
      "Epoch 3/40 [Val]: 100%|██████████| 13/13 [00:19<00:00,  1.52s/it]\n"
     ]
    },
    {
     "name": "stdout",
     "output_type": "stream",
     "text": [
      "Epoch 3/40 | Train Loss: 0.114540 | Val Loss: 0.106102\n"
     ]
    },
    {
     "name": "stderr",
     "output_type": "stream",
     "text": [
      "Epoch 4/40 [Train]: 100%|██████████| 220/220 [05:22<00:00,  1.47s/it]\n",
      "Epoch 4/40 [Val]: 100%|██████████| 13/13 [00:19<00:00,  1.52s/it]\n"
     ]
    },
    {
     "name": "stdout",
     "output_type": "stream",
     "text": [
      "Epoch 4/40 | Train Loss: 0.096673 | Val Loss: 0.090428\n"
     ]
    },
    {
     "name": "stderr",
     "output_type": "stream",
     "text": [
      "Epoch 5/40 [Train]: 100%|██████████| 220/220 [05:20<00:00,  1.46s/it]\n",
      "Epoch 5/40 [Val]: 100%|██████████| 13/13 [00:19<00:00,  1.49s/it]\n"
     ]
    },
    {
     "name": "stdout",
     "output_type": "stream",
     "text": [
      "Epoch 5/40 | Train Loss: 0.084025 | Val Loss: 0.079936\n"
     ]
    },
    {
     "name": "stderr",
     "output_type": "stream",
     "text": [
      "Epoch 6/40 [Train]: 100%|██████████| 220/220 [05:13<00:00,  1.43s/it]\n",
      "Epoch 6/40 [Val]: 100%|██████████| 13/13 [00:19<00:00,  1.49s/it]\n"
     ]
    },
    {
     "name": "stdout",
     "output_type": "stream",
     "text": [
      "Epoch 6/40 | Train Loss: 0.075122 | Val Loss: 0.071579\n"
     ]
    },
    {
     "name": "stderr",
     "output_type": "stream",
     "text": [
      "Epoch 7/40 [Train]: 100%|██████████| 220/220 [05:13<00:00,  1.43s/it]\n",
      "Epoch 7/40 [Val]: 100%|██████████| 13/13 [00:19<00:00,  1.48s/it]\n"
     ]
    },
    {
     "name": "stdout",
     "output_type": "stream",
     "text": [
      "Epoch 7/40 | Train Loss: 0.068588 | Val Loss: 0.066110\n"
     ]
    },
    {
     "name": "stderr",
     "output_type": "stream",
     "text": [
      "Epoch 8/40 [Train]: 100%|██████████| 220/220 [05:14<00:00,  1.43s/it]\n",
      "Epoch 8/40 [Val]: 100%|██████████| 13/13 [00:19<00:00,  1.48s/it]\n"
     ]
    },
    {
     "name": "stdout",
     "output_type": "stream",
     "text": [
      "Epoch 8/40 | Train Loss: 0.063803 | Val Loss: 0.062076\n"
     ]
    },
    {
     "name": "stderr",
     "output_type": "stream",
     "text": [
      "Epoch 9/40 [Train]: 100%|██████████| 220/220 [05:13<00:00,  1.43s/it]\n",
      "Epoch 9/40 [Val]: 100%|██████████| 13/13 [00:19<00:00,  1.48s/it]\n"
     ]
    },
    {
     "name": "stdout",
     "output_type": "stream",
     "text": [
      "Epoch 9/40 | Train Loss: 0.060215 | Val Loss: 0.058557\n"
     ]
    },
    {
     "name": "stderr",
     "output_type": "stream",
     "text": [
      "Epoch 10/40 [Train]: 100%|██████████| 220/220 [05:14<00:00,  1.43s/it]\n",
      "Epoch 10/40 [Val]: 100%|██████████| 13/13 [00:19<00:00,  1.49s/it]\n"
     ]
    },
    {
     "name": "stdout",
     "output_type": "stream",
     "text": [
      "Epoch 10/40 | Train Loss: 0.057476 | Val Loss: 0.055988\n"
     ]
    },
    {
     "name": "stderr",
     "output_type": "stream",
     "text": [
      "Epoch 11/40 [Train]: 100%|██████████| 220/220 [05:13<00:00,  1.42s/it]\n",
      "Epoch 11/40 [Val]: 100%|██████████| 13/13 [00:19<00:00,  1.47s/it]\n"
     ]
    },
    {
     "name": "stdout",
     "output_type": "stream",
     "text": [
      "Epoch 11/40 | Train Loss: 0.055220 | Val Loss: 0.053953\n"
     ]
    },
    {
     "name": "stderr",
     "output_type": "stream",
     "text": [
      "Epoch 12/40 [Train]: 100%|██████████| 220/220 [05:14<00:00,  1.43s/it]\n",
      "Epoch 12/40 [Val]: 100%|██████████| 13/13 [00:19<00:00,  1.48s/it]\n"
     ]
    },
    {
     "name": "stdout",
     "output_type": "stream",
     "text": [
      "Epoch 12/40 | Train Loss: 0.053480 | Val Loss: 0.052255\n"
     ]
    },
    {
     "name": "stderr",
     "output_type": "stream",
     "text": [
      "Epoch 13/40 [Train]: 100%|██████████| 220/220 [05:14<00:00,  1.43s/it]\n",
      "Epoch 13/40 [Val]: 100%|██████████| 13/13 [00:19<00:00,  1.47s/it]\n"
     ]
    },
    {
     "name": "stdout",
     "output_type": "stream",
     "text": [
      "Epoch 13/40 | Train Loss: 0.051884 | Val Loss: 0.050823\n"
     ]
    },
    {
     "name": "stderr",
     "output_type": "stream",
     "text": [
      "Epoch 14/40 [Train]: 100%|██████████| 220/220 [05:13<00:00,  1.43s/it]\n",
      "Epoch 14/40 [Val]: 100%|██████████| 13/13 [00:19<00:00,  1.48s/it]\n"
     ]
    },
    {
     "name": "stdout",
     "output_type": "stream",
     "text": [
      "Epoch 14/40 | Train Loss: 0.050610 | Val Loss: 0.049628\n"
     ]
    },
    {
     "name": "stderr",
     "output_type": "stream",
     "text": [
      "Epoch 15/40 [Train]: 100%|██████████| 220/220 [05:14<00:00,  1.43s/it]\n",
      "Epoch 15/40 [Val]: 100%|██████████| 13/13 [00:19<00:00,  1.48s/it]\n"
     ]
    },
    {
     "name": "stdout",
     "output_type": "stream",
     "text": [
      "Epoch 15/40 | Train Loss: 0.049513 | Val Loss: 0.048511\n"
     ]
    },
    {
     "name": "stderr",
     "output_type": "stream",
     "text": [
      "Epoch 16/40 [Train]: 100%|██████████| 220/220 [05:13<00:00,  1.42s/it]\n",
      "Epoch 16/40 [Val]: 100%|██████████| 13/13 [00:19<00:00,  1.48s/it]\n"
     ]
    },
    {
     "name": "stdout",
     "output_type": "stream",
     "text": [
      "Epoch 16/40 | Train Loss: 0.048544 | Val Loss: 0.047654\n"
     ]
    },
    {
     "name": "stderr",
     "output_type": "stream",
     "text": [
      "Epoch 17/40 [Train]: 100%|██████████| 220/220 [05:14<00:00,  1.43s/it]\n",
      "Epoch 17/40 [Val]: 100%|██████████| 13/13 [00:19<00:00,  1.49s/it]\n"
     ]
    },
    {
     "name": "stdout",
     "output_type": "stream",
     "text": [
      "Epoch 17/40 | Train Loss: 0.047630 | Val Loss: 0.046748\n"
     ]
    },
    {
     "name": "stderr",
     "output_type": "stream",
     "text": [
      "Epoch 18/40 [Train]: 100%|██████████| 220/220 [05:14<00:00,  1.43s/it]\n",
      "Epoch 18/40 [Val]: 100%|██████████| 13/13 [00:19<00:00,  1.48s/it]\n"
     ]
    },
    {
     "name": "stdout",
     "output_type": "stream",
     "text": [
      "Epoch 18/40 | Train Loss: 0.046882 | Val Loss: 0.046089\n"
     ]
    },
    {
     "name": "stderr",
     "output_type": "stream",
     "text": [
      "Epoch 19/40 [Train]: 100%|██████████| 220/220 [05:13<00:00,  1.43s/it]\n",
      "Epoch 19/40 [Val]: 100%|██████████| 13/13 [00:19<00:00,  1.48s/it]\n"
     ]
    },
    {
     "name": "stdout",
     "output_type": "stream",
     "text": [
      "Epoch 19/40 | Train Loss: 0.046164 | Val Loss: 0.045316\n"
     ]
    },
    {
     "name": "stderr",
     "output_type": "stream",
     "text": [
      "Epoch 20/40 [Train]: 100%|██████████| 220/220 [05:14<00:00,  1.43s/it]\n",
      "Epoch 20/40 [Val]: 100%|██████████| 13/13 [00:19<00:00,  1.48s/it]\n"
     ]
    },
    {
     "name": "stdout",
     "output_type": "stream",
     "text": [
      "Epoch 20/40 | Train Loss: 0.045559 | Val Loss: 0.044837\n"
     ]
    },
    {
     "name": "stderr",
     "output_type": "stream",
     "text": [
      "Epoch 21/40 [Train]: 100%|██████████| 220/220 [05:13<00:00,  1.43s/it]\n",
      "Epoch 21/40 [Val]: 100%|██████████| 13/13 [00:19<00:00,  1.48s/it]\n"
     ]
    },
    {
     "name": "stdout",
     "output_type": "stream",
     "text": [
      "Epoch 21/40 | Train Loss: 0.044994 | Val Loss: 0.044179\n"
     ]
    },
    {
     "name": "stderr",
     "output_type": "stream",
     "text": [
      "Epoch 22/40 [Train]: 100%|██████████| 220/220 [05:14<00:00,  1.43s/it]\n",
      "Epoch 22/40 [Val]: 100%|██████████| 13/13 [00:19<00:00,  1.47s/it]\n"
     ]
    },
    {
     "name": "stdout",
     "output_type": "stream",
     "text": [
      "Epoch 22/40 | Train Loss: 0.044415 | Val Loss: 0.043656\n"
     ]
    },
    {
     "name": "stderr",
     "output_type": "stream",
     "text": [
      "Epoch 23/40 [Train]: 100%|██████████| 220/220 [05:13<00:00,  1.43s/it]\n",
      "Epoch 23/40 [Val]: 100%|██████████| 13/13 [00:19<00:00,  1.48s/it]\n"
     ]
    },
    {
     "name": "stdout",
     "output_type": "stream",
     "text": [
      "Epoch 23/40 | Train Loss: 0.043964 | Val Loss: 0.043328\n"
     ]
    },
    {
     "name": "stderr",
     "output_type": "stream",
     "text": [
      "Epoch 24/40 [Train]: 100%|██████████| 220/220 [05:13<00:00,  1.43s/it]\n",
      "Epoch 24/40 [Val]: 100%|██████████| 13/13 [00:19<00:00,  1.48s/it]\n"
     ]
    },
    {
     "name": "stdout",
     "output_type": "stream",
     "text": [
      "Epoch 24/40 | Train Loss: 0.043420 | Val Loss: 0.042692\n"
     ]
    },
    {
     "name": "stderr",
     "output_type": "stream",
     "text": [
      "Epoch 25/40 [Train]: 100%|██████████| 220/220 [05:13<00:00,  1.43s/it]\n",
      "Epoch 25/40 [Val]: 100%|██████████| 13/13 [00:19<00:00,  1.49s/it]\n"
     ]
    },
    {
     "name": "stdout",
     "output_type": "stream",
     "text": [
      "Epoch 25/40 | Train Loss: 0.043004 | Val Loss: 0.042308\n"
     ]
    },
    {
     "name": "stderr",
     "output_type": "stream",
     "text": [
      "Epoch 26/40 [Train]: 100%|██████████| 220/220 [05:13<00:00,  1.43s/it]\n",
      "Epoch 26/40 [Val]: 100%|██████████| 13/13 [00:19<00:00,  1.48s/it]\n"
     ]
    },
    {
     "name": "stdout",
     "output_type": "stream",
     "text": [
      "Epoch 26/40 | Train Loss: 0.042566 | Val Loss: 0.042005\n"
     ]
    },
    {
     "name": "stderr",
     "output_type": "stream",
     "text": [
      "Epoch 27/40 [Train]: 100%|██████████| 220/220 [05:13<00:00,  1.43s/it]\n",
      "Epoch 27/40 [Val]: 100%|██████████| 13/13 [00:19<00:00,  1.48s/it]\n"
     ]
    },
    {
     "name": "stdout",
     "output_type": "stream",
     "text": [
      "Epoch 27/40 | Train Loss: 0.042228 | Val Loss: 0.041498\n"
     ]
    },
    {
     "name": "stderr",
     "output_type": "stream",
     "text": [
      "Epoch 28/40 [Train]: 100%|██████████| 220/220 [05:13<00:00,  1.43s/it]\n",
      "Epoch 28/40 [Val]: 100%|██████████| 13/13 [00:19<00:00,  1.48s/it]\n"
     ]
    },
    {
     "name": "stdout",
     "output_type": "stream",
     "text": [
      "Epoch 28/40 | Train Loss: 0.041851 | Val Loss: 0.041202\n"
     ]
    },
    {
     "name": "stderr",
     "output_type": "stream",
     "text": [
      "Epoch 29/40 [Train]: 100%|██████████| 220/220 [05:14<00:00,  1.43s/it]\n",
      "Epoch 29/40 [Val]: 100%|██████████| 13/13 [00:19<00:00,  1.48s/it]\n"
     ]
    },
    {
     "name": "stdout",
     "output_type": "stream",
     "text": [
      "Epoch 29/40 | Train Loss: 0.041569 | Val Loss: 0.040804\n"
     ]
    },
    {
     "name": "stderr",
     "output_type": "stream",
     "text": [
      "Epoch 30/40 [Train]: 100%|██████████| 220/220 [05:13<00:00,  1.43s/it]\n",
      "Epoch 30/40 [Val]: 100%|██████████| 13/13 [00:19<00:00,  1.48s/it]\n"
     ]
    },
    {
     "name": "stdout",
     "output_type": "stream",
     "text": [
      "Epoch 30/40 | Train Loss: 0.041158 | Val Loss: 0.040633\n"
     ]
    },
    {
     "name": "stderr",
     "output_type": "stream",
     "text": [
      "Epoch 31/40 [Train]: 100%|██████████| 220/220 [05:13<00:00,  1.42s/it]\n",
      "Epoch 31/40 [Val]: 100%|██████████| 13/13 [00:19<00:00,  1.48s/it]\n"
     ]
    },
    {
     "name": "stdout",
     "output_type": "stream",
     "text": [
      "Epoch 31/40 | Train Loss: 0.040827 | Val Loss: 0.040149\n"
     ]
    },
    {
     "name": "stderr",
     "output_type": "stream",
     "text": [
      "Epoch 32/40 [Train]: 100%|██████████| 220/220 [05:13<00:00,  1.42s/it]\n",
      "Epoch 32/40 [Val]: 100%|██████████| 13/13 [00:19<00:00,  1.48s/it]\n"
     ]
    },
    {
     "name": "stdout",
     "output_type": "stream",
     "text": [
      "Epoch 32/40 | Train Loss: 0.040616 | Val Loss: 0.039877\n"
     ]
    },
    {
     "name": "stderr",
     "output_type": "stream",
     "text": [
      "Epoch 33/40 [Train]: 100%|██████████| 220/220 [05:14<00:00,  1.43s/it]\n",
      "Epoch 33/40 [Val]: 100%|██████████| 13/13 [00:19<00:00,  1.48s/it]\n"
     ]
    },
    {
     "name": "stdout",
     "output_type": "stream",
     "text": [
      "Epoch 33/40 | Train Loss: 0.040255 | Val Loss: 0.039634\n"
     ]
    },
    {
     "name": "stderr",
     "output_type": "stream",
     "text": [
      "Epoch 34/40 [Train]: 100%|██████████| 220/220 [05:13<00:00,  1.43s/it]\n",
      "Epoch 34/40 [Val]: 100%|██████████| 13/13 [00:19<00:00,  1.48s/it]\n"
     ]
    },
    {
     "name": "stdout",
     "output_type": "stream",
     "text": [
      "Epoch 34/40 | Train Loss: 0.040063 | Val Loss: 0.039326\n"
     ]
    },
    {
     "name": "stderr",
     "output_type": "stream",
     "text": [
      "Epoch 35/40 [Train]: 100%|██████████| 220/220 [05:13<00:00,  1.43s/it]\n",
      "Epoch 35/40 [Val]: 100%|██████████| 13/13 [00:19<00:00,  1.48s/it]\n"
     ]
    },
    {
     "name": "stdout",
     "output_type": "stream",
     "text": [
      "Epoch 35/40 | Train Loss: 0.039754 | Val Loss: 0.039168\n"
     ]
    },
    {
     "name": "stderr",
     "output_type": "stream",
     "text": [
      "Epoch 36/40 [Train]: 100%|██████████| 220/220 [05:13<00:00,  1.43s/it]\n",
      "Epoch 36/40 [Val]: 100%|██████████| 13/13 [00:19<00:00,  1.47s/it]\n"
     ]
    },
    {
     "name": "stdout",
     "output_type": "stream",
     "text": [
      "Epoch 36/40 | Train Loss: 0.039526 | Val Loss: 0.038808\n"
     ]
    },
    {
     "name": "stderr",
     "output_type": "stream",
     "text": [
      "Epoch 37/40 [Train]: 100%|██████████| 220/220 [05:13<00:00,  1.43s/it]\n",
      "Epoch 37/40 [Val]: 100%|██████████| 13/13 [00:19<00:00,  1.48s/it]\n"
     ]
    },
    {
     "name": "stdout",
     "output_type": "stream",
     "text": [
      "Epoch 37/40 | Train Loss: 0.039276 | Val Loss: 0.038590\n"
     ]
    },
    {
     "name": "stderr",
     "output_type": "stream",
     "text": [
      "Epoch 38/40 [Train]: 100%|██████████| 220/220 [05:13<00:00,  1.43s/it]\n",
      "Epoch 38/40 [Val]: 100%|██████████| 13/13 [00:19<00:00,  1.48s/it]\n"
     ]
    },
    {
     "name": "stdout",
     "output_type": "stream",
     "text": [
      "Epoch 38/40 | Train Loss: 0.039014 | Val Loss: 0.038348\n"
     ]
    },
    {
     "name": "stderr",
     "output_type": "stream",
     "text": [
      "Epoch 39/40 [Train]: 100%|██████████| 220/220 [05:14<00:00,  1.43s/it]\n",
      "Epoch 39/40 [Val]: 100%|██████████| 13/13 [00:19<00:00,  1.47s/it]\n"
     ]
    },
    {
     "name": "stdout",
     "output_type": "stream",
     "text": [
      "Epoch 39/40 | Train Loss: 0.038754 | Val Loss: 0.038189\n"
     ]
    },
    {
     "name": "stderr",
     "output_type": "stream",
     "text": [
      "Epoch 40/40 [Train]: 100%|██████████| 220/220 [05:14<00:00,  1.43s/it]\n",
      "Epoch 40/40 [Val]: 100%|██████████| 13/13 [00:19<00:00,  1.47s/it]"
     ]
    },
    {
     "name": "stdout",
     "output_type": "stream",
     "text": [
      "Epoch 40/40 | Train Loss: 0.038592 | Val Loss: 0.037922\n"
     ]
    },
    {
     "name": "stderr",
     "output_type": "stream",
     "text": [
      "\n"
     ]
    }
   ],
   "source": [
    "device = \"cuda\" if torch.cuda.is_available() else \"cpu\"\n",
    "all_train_losses, all_val_losses = train_autoencoder(model, train_loader, val_loader, num_epochs=40, lr=1e-6, device=device)"
   ]
  },
  {
   "cell_type": "code",
   "execution_count": 6,
   "metadata": {},
   "outputs": [
    {
     "data": {
      "image/png": "[encoded data removed]",
      "text/plain": [
       "<Figure size 640x480 with 1 Axes>"
      ]
     },
     "metadata": {},
     "output_type": "display_data"
    },
    {
     "data": {
      "image/png": "[encoded data removed]",
      "text/plain": [
       "<Figure size 640x480 with 1 Axes>"
      ]
     },
     "metadata": {},
     "output_type": "display_data"
    }
   ],
   "source": [
    "import matplotlib.pyplot as plt\n",
    "\n",
    "# Plot training loss\n",
    "plt.plot(range(1, len(all_train_losses) + 1), all_train_losses, label=\"Train\")\n",
    "plt.xlabel(\"Epoch\")\n",
    "plt.ylabel(\"Loss\")\n",
    "plt.legend()\n",
    "plt.title(\"Training Loss Curve\")\n",
    "plt.xticks(range(1, len(all_train_losses) + 1))  # Show all epoch numbers on x-axis\n",
    "plt.show()\n",
    "\n",
    "# Plot validation loss\n",
    "plt.plot(range(1, len(all_val_losses) + 1), all_val_losses, label=\"Val\")\n",
    "plt.xlabel(\"Epoch\")\n",
    "plt.ylabel(\"Loss\")\n",
    "plt.legend()\n",
    "plt.title(\"Validation Loss Curve\")\n",
    "plt.xticks(range(1, len(all_val_losses) + 1))  # Show all epoch numbers on x-axis\n",
    "plt.show()"
   ]
  },
  {
   "cell_type": "code",
   "execution_count": 7,
   "metadata": {},
   "outputs": [],
   "source": [
    "import matplotlib.pyplot as plt\n",
    "import numpy as np\n",
    "import torchvision\n",
    "\n",
    "def denormalize(tensor):\n",
    "    \"\"\"\n",
    "    Undo normalization: from [-1,1] back to [0,1] for visualization.\n",
    "    Assumes you used mean=0.5, std=0.5 normalization.\n",
    "    \"\"\"\n",
    "    return tensor * 0.5 + 0.5\n",
    "'''\n",
    "def show_clip(original, recon, max_frames=8):\n",
    "    \"\"\"\n",
    "    Display first `max_frames` frames from original and reconstruction.\n",
    "    original, recon: tensors (C, T, H, W) in [-1,1]\n",
    "    \"\"\"\n",
    "    original = denormalize(original).cpu().numpy()\n",
    "    recon = denormalize(recon).cpu().detach().numpy()\n",
    "\n",
    "    # (C,T,H,W) -> (T,H,W,C)\n",
    "    original = np.transpose(original, (1, 2, 3, 0))\n",
    "    recon = np.transpose(recon, (1, 2, 3, 0))\n",
    "\n",
    "    num_frames = min(max_frames, original.shape[0])\n",
    "\n",
    "    fig, axes = plt.subplots(2, num_frames, figsize=(3*num_frames, 6))\n",
    "    for i in range(num_frames):\n",
    "        axes[0, i].imshow(original[i])\n",
    "        axes[0, i].axis(\"off\")\n",
    "        axes[0, i].set_title(f\"Orig {i}\")\n",
    "\n",
    "        axes[1, i].imshow(recon[i])\n",
    "        axes[1, i].axis(\"off\")\n",
    "        axes[1, i].set_title(f\"Recon {i}\")\n",
    "\n",
    "    plt.show()\n",
    "'''\n",
    "\n",
    "def show_clip(original, recon, max_frames=8):\n",
    "    \"\"\"\n",
    "    Display first `max_frames` frames from original and reconstruction.\n",
    "    original, recon: tensors (C, T, H, W) in [-1,1]\n",
    "    \"\"\"\n",
    "    #original = denormalize(original).cpu().numpy()\n",
    "    #recon = denormalize(recon).cpu().detach().numpy()\n",
    "\n",
    "    # (C,T,H,W) -> (T,H,W,C) if C>1, else (T,H,W)\n",
    "    if original.shape[0] == 1:\n",
    "        original = np.transpose(original, (1, 2, 0))[:, :, 0]  # squeeze channel\n",
    "        recon = np.transpose(recon, (1, 2, 0))[:, :, 0]\n",
    "    else:\n",
    "        original = np.transpose(original, (1, 2, 3, 0))\n",
    "        recon = np.transpose(recon, (1, 2, 3, 0))\n",
    "\n",
    "    num_frames = min(max_frames, original.shape[0])\n",
    "\n",
    "    fig, axes = plt.subplots(2, num_frames, figsize=(3*num_frames, 6))\n",
    "    for i in range(num_frames):\n",
    "        axes[0, i].imshow(original[i], cmap='gray' if original.ndim==2 else None)\n",
    "        axes[0, i].axis(\"off\")\n",
    "        axes[0, i].set_title(f\"Orig {i}\")\n",
    "\n",
    "        axes[1, i].imshow(recon[i], cmap='gray' if recon.ndim==2 else None)\n",
    "        axes[1, i].axis(\"off\")\n",
    "        axes[1, i].set_title(f\"Recon {i}\")\n",
    "\n",
    "    plt.show()\n",
    "\n",
    "def plot_video_clips(clips, n_clips=4, n_frames=8):\n",
    "    \"\"\"\n",
    "    Plot a few clips from a batch of video tensors.\n",
    "\n",
    "    Args:\n",
    "        clips (Tensor): Batch of clips, shape (B, C, T, H, W).\n",
    "        n_clips (int): How many clips from the batch to plot.\n",
    "        n_frames (int): How many frames per clip to show.\n",
    "    \"\"\"\n",
    "    B, C, T, H, W = clips.shape\n",
    "    n_clips = min(n_clips, B)\n",
    "    n_frames = min(n_frames, T)\n",
    "\n",
    "    fig, axes = plt.subplots(n_clips, n_frames, figsize=(n_frames*2, n_clips*2))\n",
    "\n",
    "    # Handle case where only 1 clip is plotted\n",
    "    if n_clips == 1:\n",
    "        axes = [axes]\n",
    "\n",
    "    for i in range(n_clips):\n",
    "        # Evenly sample frames\n",
    "        frame_indices = torch.linspace(0, T-1, steps=n_frames).long()\n",
    "        for j, t in enumerate(frame_indices):\n",
    "            frame = clips[i, :, t, :, :]  # (C, H, W)\n",
    "            frame = torchvision.transforms.functional.to_pil_image(frame)\n",
    "\n",
    "            axes[i][j].imshow(frame, cmap=\"gray\" if frame.mode==\"L\" else None)\n",
    "            axes[i][j].axis(\"off\")\n",
    "\n",
    "    plt.tight_layout()\n",
    "    plt.show()\n",
    "\n",
    "\n",
    "def plot_reconstructions(original, recon, n_clips=2, n_frames=8):\n",
    "    \"\"\"\n",
    "    Plot original vs reconstructed video clips.\n",
    "\n",
    "    Args:\n",
    "        original (Tensor): Batch of original clips, shape (B, C, T, H, W).\n",
    "        recon (Tensor): Batch of reconstructed clips, same shape.\n",
    "        n_clips (int): Number of clips to show.\n",
    "        n_frames (int): Number of frames per clip to show.\n",
    "    \"\"\"\n",
    "    B, C, T, H, W = original.shape\n",
    "    n_clips = min(n_clips, B)\n",
    "    n_frames = min(n_frames, T)\n",
    "\n",
    "    fig, axes = plt.subplots(n_clips*2, n_frames, figsize=(n_frames*2, n_clips*4))\n",
    "\n",
    "    # Handle case where only 1 clip is plotted\n",
    "    if n_clips == 1:\n",
    "        axes = [axes]\n",
    "\n",
    "    for i in range(n_clips):\n",
    "        frame_indices = torch.linspace(0, T-1, steps=n_frames).long()\n",
    "\n",
    "        for j, t in enumerate(frame_indices):\n",
    "            # --- Original ---\n",
    "            orig_frame = torchvision.transforms.functional.to_pil_image(original[i, :, t, :, :].cpu().clamp(0,1))\n",
    "            axes[i*2][j].imshow(orig_frame, cmap=\"gray\" if orig_frame.mode==\"L\" else None)\n",
    "            axes[i*2][j].axis(\"off\")\n",
    "            if j == 0:\n",
    "                axes[i*2][j].set_ylabel(\"Original\", fontsize=12)\n",
    "\n",
    "            # --- Reconstruction ---\n",
    "            recon_frame = torchvision.transforms.functional.to_pil_image(recon[i, :, t, :, :].cpu().clamp(0,1))\n",
    "            axes[i*2+1][j].imshow(recon_frame, cmap=\"gray\" if recon_frame.mode==\"L\" else None)\n",
    "            axes[i*2+1][j].axis(\"off\")\n",
    "            if j == 0:\n",
    "                axes[i*2+1][j].set_ylabel(\"Reconstruction\", fontsize=12)\n",
    "\n",
    "    plt.tight_layout()\n",
    "    plt.show()"
   ]
  },
  {
   "cell_type": "code",
   "execution_count": 8,
   "metadata": {},
   "outputs": [],
   "source": [
    "#device = \"cuda\" if torch.cuda.is_available() else \"cpu\"\n",
    "\n",
    "#model.load_state_dict(torch.load(\"best_autoencoder.pth\"))\n",
    "\n",
    "#model.eval()\n",
    "#model.to(device)\n"
   ]
  },
  {
   "cell_type": "code",
   "execution_count": 9,
   "metadata": {},
   "outputs": [
    {
     "name": "stderr",
     "output_type": "stream",
     "text": [
      "Computing reconstruction errors: 100%|██████████| 13/13 [00:19<00:00,  1.47s/it]\n"
     ]
    }
   ],
   "source": [
    "model.eval()\n",
    "reconstruction_errors = []\n",
    "\n",
    "with torch.no_grad():\n",
    "    for clips, _ in tqdm(val_loader, desc=\"Computing reconstruction errors\"):\n",
    "        \n",
    "        # Prepare inputs\n",
    "        #feature_vector = feature_vector.squeeze(dim=1).cuda()\n",
    "\n",
    "        # Forward pass\n",
    "        clips = clips.to(device, dtype=torch.float32)\n",
    "        output = model(clips)\n",
    "        \n",
    "        # Compute L1 reconstruction error per sample using your existing criterion\n",
    "        # criterion gives a scalar loss if inputs are batched — so compute per sample manually\n",
    "        errors = torch.mean(torch.abs(clips - output), dim=[1,2,3,4])  # L1 per sample\n",
    "\n",
    "        reconstruction_errors.extend(errors.cpu().numpy())\n",
    "\n",
    "# Convert to numpy\n",
    "reconstruction_errors = np.array(reconstruction_errors)"
   ]
  },
  {
   "cell_type": "code",
   "execution_count": 10,
   "metadata": {},
   "outputs": [
    {
     "name": "stdout",
     "output_type": "stream",
     "text": [
      "✅ 95th percentile threshold: 0.043391\n"
     ]
    },
    {
     "data": {
      "image/png": "[encoded data removed]",
      "text/plain": [
       "<Figure size 900x500 with 1 Axes>"
      ]
     },
     "metadata": {},
     "output_type": "display_data"
    }
   ],
   "source": [
    "import matplotlib.pyplot as plt\n",
    "import numpy as np\n",
    "import seaborn as sns\n",
    "\n",
    "# --- Compute threshold based on 95th percentile only ---\n",
    "threshold_95 = np.percentile(reconstruction_errors, 95)\n",
    "\n",
    "print(f\"✅ 95th percentile threshold: {threshold_95:.6f}\")\n",
    "\n",
    "# --- Plot ---\n",
    "sns.set(style=\"whitegrid\", font_scale=1.1)\n",
    "plt.figure(figsize=(9, 5))\n",
    "\n",
    "sns.histplot(reconstruction_errors, bins=50, kde=True, color='skyblue', alpha=0.6)\n",
    "\n",
    "# Draw line for the 95th percentile\n",
    "plt.axvline(threshold_95, color='red', linestyle='--', linewidth=2, label=f'95th percentile = {threshold_95:.4f}')\n",
    "\n",
    "# Annotate\n",
    "plt.text(threshold_95 * 1.02, plt.ylim()[1] * 0.8,\n",
    "         f\"P95 = {threshold_95:.4f}\",\n",
    "         color='red', fontsize=10, fontweight='bold')\n",
    "\n",
    "# Labels and title\n",
    "plt.xlabel(\"Reconstruction Error (L1)\", fontsize=12)\n",
    "plt.ylabel(\"Frequency\", fontsize=12)\n",
    "plt.title(\"Distribution of Reconstruction Errors (Video Only)\", fontsize=14, fontweight='bold')\n",
    "plt.legend()\n",
    "plt.tight_layout()\n",
    "plt.show()"
   ]
  }
 ],
 "metadata": {
  "kernelspec": {
   "display_name": "g_ribeiro",
   "language": "python",
   "name": "python3"
  },
  "language_info": {
   "codemirror_mode": {
    "name": "ipython",
    "version": 3
   },
   "file_extension": ".py",
   "mimetype": "text/x-python",
   "name": "python",
   "nbconvert_exporter": "python",
   "pygments_lexer": "ipython3",
   "version": "3.12.7"
  }
 },
 "nbformat": 4,
 "nbformat_minor": 2
}
